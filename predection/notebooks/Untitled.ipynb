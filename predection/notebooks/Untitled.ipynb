{
 "cells": [
  {
   "cell_type": "code",
   "execution_count": 121,
   "metadata": {
    "ExecuteTime": {
     "end_time": "2019-03-20T05:34:14.245252Z",
     "start_time": "2019-03-20T05:34:14.241960Z"
    }
   },
   "outputs": [],
   "source": [
    "from lightgbm import LGBMRegressor, LGBMClassifier\n",
    "import pandas as pd\n",
    "import numpy as np\n",
    "from sklearn.model_selection import KFold, train_test_split\n",
    "from sklearn.metrics import mean_squared_error"
   ]
  },
  {
   "cell_type": "markdown",
   "metadata": {
    "ExecuteTime": {
     "end_time": "2019-03-20T04:52:44.458545Z",
     "start_time": "2019-03-20T04:52:44.455811Z"
    }
   },
   "source": [
    "# 読み込み"
   ]
  },
  {
   "cell_type": "code",
   "execution_count": 147,
   "metadata": {
    "ExecuteTime": {
     "end_time": "2019-03-20T05:39:05.205740Z",
     "start_time": "2019-03-20T05:39:05.155989Z"
    }
   },
   "outputs": [
    {
     "data": {
      "text/html": [
       "<div>\n",
       "<style scoped>\n",
       "    .dataframe tbody tr th:only-of-type {\n",
       "        vertical-align: middle;\n",
       "    }\n",
       "\n",
       "    .dataframe tbody tr th {\n",
       "        vertical-align: top;\n",
       "    }\n",
       "\n",
       "    .dataframe thead th {\n",
       "        text-align: right;\n",
       "    }\n",
       "</style>\n",
       "<table border=\"1\" class=\"dataframe\">\n",
       "  <thead>\n",
       "    <tr style=\"text-align: right;\">\n",
       "      <th></th>\n",
       "      <th>eye_left_x</th>\n",
       "      <th>eye_left_y</th>\n",
       "      <th>eye_right_x</th>\n",
       "      <th>eye_right_y</th>\n",
       "      <th>nose_x</th>\n",
       "      <th>nose_y</th>\n",
       "      <th>mouse_x</th>\n",
       "      <th>mouse_y</th>\n",
       "      <th>score</th>\n",
       "    </tr>\n",
       "  </thead>\n",
       "  <tbody>\n",
       "    <tr>\n",
       "      <th>0</th>\n",
       "      <td>0.003686</td>\n",
       "      <td>0.364129</td>\n",
       "      <td>0.412835</td>\n",
       "      <td>0.848756</td>\n",
       "      <td>0.285172</td>\n",
       "      <td>0.512789</td>\n",
       "      <td>0.912312</td>\n",
       "      <td>0.179207</td>\n",
       "      <td>2.50</td>\n",
       "    </tr>\n",
       "    <tr>\n",
       "      <th>1</th>\n",
       "      <td>0.007223</td>\n",
       "      <td>0.322489</td>\n",
       "      <td>0.063422</td>\n",
       "      <td>0.066738</td>\n",
       "      <td>0.120908</td>\n",
       "      <td>0.903612</td>\n",
       "      <td>0.590445</td>\n",
       "      <td>0.832553</td>\n",
       "      <td>2.50</td>\n",
       "    </tr>\n",
       "    <tr>\n",
       "      <th>2</th>\n",
       "      <td>0.013332</td>\n",
       "      <td>0.739455</td>\n",
       "      <td>0.381475</td>\n",
       "      <td>0.236677</td>\n",
       "      <td>0.812067</td>\n",
       "      <td>0.557608</td>\n",
       "      <td>0.592940</td>\n",
       "      <td>0.388272</td>\n",
       "      <td>2.00</td>\n",
       "    </tr>\n",
       "    <tr>\n",
       "      <th>3</th>\n",
       "      <td>0.019862</td>\n",
       "      <td>0.091261</td>\n",
       "      <td>0.043216</td>\n",
       "      <td>0.573151</td>\n",
       "      <td>0.069793</td>\n",
       "      <td>0.677142</td>\n",
       "      <td>0.183199</td>\n",
       "      <td>0.754341</td>\n",
       "      <td>1.25</td>\n",
       "    </tr>\n",
       "    <tr>\n",
       "      <th>4</th>\n",
       "      <td>0.022230</td>\n",
       "      <td>0.086808</td>\n",
       "      <td>0.630817</td>\n",
       "      <td>0.949252</td>\n",
       "      <td>0.651827</td>\n",
       "      <td>0.358567</td>\n",
       "      <td>0.196062</td>\n",
       "      <td>0.321173</td>\n",
       "      <td>1.25</td>\n",
       "    </tr>\n",
       "  </tbody>\n",
       "</table>\n",
       "</div>"
      ],
      "text/plain": [
       "   eye_left_x  eye_left_y  eye_right_x  eye_right_y    nose_x    nose_y   mouse_x   mouse_y  score\n",
       "0    0.003686    0.364129     0.412835     0.848756  0.285172  0.512789  0.912312  0.179207   2.50\n",
       "1    0.007223    0.322489     0.063422     0.066738  0.120908  0.903612  0.590445  0.832553   2.50\n",
       "2    0.013332    0.739455     0.381475     0.236677  0.812067  0.557608  0.592940  0.388272   2.00\n",
       "3    0.019862    0.091261     0.043216     0.573151  0.069793  0.677142  0.183199  0.754341   1.25\n",
       "4    0.022230    0.086808     0.630817     0.949252  0.651827  0.358567  0.196062  0.321173   1.25"
      ]
     },
     "execution_count": 147,
     "metadata": {},
     "output_type": "execute_result"
    }
   ],
   "source": [
    "train_test = pd.read_csv('../input/yachida.csv')\n",
    "\n",
    "# 4人のscoreの平均を取る\n",
    "train_test = train_test.groupby(\n",
    "    [col for col in train_test.columns if not col == 'score'], as_index=False)[['score']].mean()\n",
    "train_test.head()"
   ]
  },
  {
   "cell_type": "code",
   "execution_count": 148,
   "metadata": {
    "ExecuteTime": {
     "end_time": "2019-03-20T05:39:05.703282Z",
     "start_time": "2019-03-20T05:39:05.698972Z"
    }
   },
   "outputs": [],
   "source": [
    "train, test = train_test_split(train_test, test_size=0.1, shuffle=True, random_state=42)"
   ]
  },
  {
   "cell_type": "code",
   "execution_count": 149,
   "metadata": {
    "ExecuteTime": {
     "end_time": "2019-03-20T05:39:08.815261Z",
     "start_time": "2019-03-20T05:39:05.958139Z"
    }
   },
   "outputs": [
    {
     "name": "stdout",
     "output_type": "stream",
     "text": [
      "Training until validation scores don't improve for 500 rounds.\n",
      "[1000]\ttraining's rmse: 0.550646\tvalid_1's rmse: 0.889482\n",
      "[2000]\ttraining's rmse: 0.539572\tvalid_1's rmse: 0.879684\n",
      "[3000]\ttraining's rmse: 0.530637\tvalid_1's rmse: 0.872033\n",
      "[4000]\ttraining's rmse: 0.523242\tvalid_1's rmse: 0.868843\n",
      "[5000]\ttraining's rmse: 0.516793\tvalid_1's rmse: 0.866499\n",
      "[6000]\ttraining's rmse: 0.511133\tvalid_1's rmse: 0.864411\n",
      "[7000]\ttraining's rmse: 0.506171\tvalid_1's rmse: 0.862744\n",
      "[8000]\ttraining's rmse: 0.501826\tvalid_1's rmse: 0.861463\n",
      "[9000]\ttraining's rmse: 0.498026\tvalid_1's rmse: 0.860475\n",
      "[10000]\ttraining's rmse: 0.494705\tvalid_1's rmse: 0.859752\n",
      "Did not meet early stopping. Best iteration is:\n",
      "[10000]\ttraining's rmse: 0.494705\tvalid_1's rmse: 0.859752\n",
      "Training until validation scores don't improve for 500 rounds.\n",
      "Early stopping, best iteration is:\n",
      "[1]\ttraining's rmse: 0.736121\tvalid_1's rmse: 0.598927\n",
      "Training until validation scores don't improve for 500 rounds.\n",
      "[1000]\ttraining's rmse: 0.720071\tvalid_1's rmse: 0.525596\n",
      "[2000]\ttraining's rmse: 0.699168\tvalid_1's rmse: 0.518148\n",
      "Early stopping, best iteration is:\n",
      "[1958]\ttraining's rmse: 0.699901\tvalid_1's rmse: 0.518145\n"
     ]
    }
   ],
   "source": [
    "folds = KFold(n_splits=3, shuffle=True, random_state=42)\n",
    "\n",
    "oof_preds = np.zeros(train.shape[0])\n",
    "sub = np.zeros(test.shape[0])\n",
    "feature_importances = pd.DataFrame()\n",
    "for n_fold, (trn_idx, val_idx) in enumerate(folds.split(train)):\n",
    "    train_x = train.drop(columns='score').iloc[trn_idx]\n",
    "    train_y = train['score'].iloc[trn_idx]\n",
    "    valid_x = train.drop(columns='score').iloc[val_idx]\n",
    "    valid_y = train['score'].iloc[val_idx]\n",
    "    \n",
    "    params = {\n",
    "        'num_leaves': 10,\n",
    "    }\n",
    "    model = LGBMRegressor(n_estimators=10000,\n",
    "                         metric='rmse',\n",
    "                         learning_rate=0.001)\n",
    "#     model = LGBMClassifier()\n",
    "    model.fit(train_x, train_y,\n",
    "             eval_set=[(train_x, train_y), (valid_x, valid_y)],\n",
    "             early_stopping_rounds=500,\n",
    "             eval_metric='rmse',\n",
    "             verbose=1000)\n",
    "    oof_preds[val_idx] = model.predict(valid_x)\n",
    "    sub += model.predict(test.drop(columns='score')) / folds.n_splits\n",
    "    fold_importance = pd.DataFrame()\n",
    "    fold_importance['feature'] = train_x.columns\n",
    "    fold_importance[\"importance\"] = model.feature_importances_\n",
    "    fold_importance[\"fold\"] = n_fold + 1\n",
    "    feature_importances = pd.concat(\n",
    "        [feature_importances, fold_importance], axis=0)"
   ]
  },
  {
   "cell_type": "code",
   "execution_count": 150,
   "metadata": {
    "ExecuteTime": {
     "end_time": "2019-03-20T05:39:08.825039Z",
     "start_time": "2019-03-20T05:39:08.818148Z"
    }
   },
   "outputs": [
    {
     "data": {
      "text/plain": [
       "0.6748730137759573"
      ]
     },
     "execution_count": 150,
     "metadata": {},
     "output_type": "execute_result"
    }
   ],
   "source": [
    "mean_squared_error(train['score'], oof_preds)**0.5"
   ]
  },
  {
   "cell_type": "code",
   "execution_count": 151,
   "metadata": {
    "ExecuteTime": {
     "end_time": "2019-03-20T05:39:08.834359Z",
     "start_time": "2019-03-20T05:39:08.828109Z"
    }
   },
   "outputs": [
    {
     "data": {
      "text/plain": [
       "0.6599172587499322"
      ]
     },
     "execution_count": 151,
     "metadata": {},
     "output_type": "execute_result"
    }
   ],
   "source": [
    "mean_squared_error(test['score'], sub)**0.5"
   ]
  },
  {
   "cell_type": "code",
   "execution_count": 152,
   "metadata": {
    "ExecuteTime": {
     "end_time": "2019-03-20T05:39:09.350099Z",
     "start_time": "2019-03-20T05:39:09.333168Z"
    }
   },
   "outputs": [
    {
     "data": {
      "text/html": [
       "<div>\n",
       "<style scoped>\n",
       "    .dataframe tbody tr th:only-of-type {\n",
       "        vertical-align: middle;\n",
       "    }\n",
       "\n",
       "    .dataframe tbody tr th {\n",
       "        vertical-align: top;\n",
       "    }\n",
       "\n",
       "    .dataframe thead th {\n",
       "        text-align: right;\n",
       "    }\n",
       "</style>\n",
       "<table border=\"1\" class=\"dataframe\">\n",
       "  <thead>\n",
       "    <tr style=\"text-align: right;\">\n",
       "      <th></th>\n",
       "      <th>importance</th>\n",
       "    </tr>\n",
       "    <tr>\n",
       "      <th>feature</th>\n",
       "      <th></th>\n",
       "    </tr>\n",
       "  </thead>\n",
       "  <tbody>\n",
       "    <tr>\n",
       "      <th>eye_left_x</th>\n",
       "      <td>656.333333</td>\n",
       "    </tr>\n",
       "    <tr>\n",
       "      <th>eye_left_y</th>\n",
       "      <td>437.666667</td>\n",
       "    </tr>\n",
       "    <tr>\n",
       "      <th>eye_right_x</th>\n",
       "      <td>540.000000</td>\n",
       "    </tr>\n",
       "    <tr>\n",
       "      <th>eye_right_y</th>\n",
       "      <td>1174.000000</td>\n",
       "    </tr>\n",
       "    <tr>\n",
       "      <th>mouse_x</th>\n",
       "      <td>266.666667</td>\n",
       "    </tr>\n",
       "    <tr>\n",
       "      <th>mouse_y</th>\n",
       "      <td>683.333333</td>\n",
       "    </tr>\n",
       "    <tr>\n",
       "      <th>nose_x</th>\n",
       "      <td>132.333333</td>\n",
       "    </tr>\n",
       "    <tr>\n",
       "      <th>nose_y</th>\n",
       "      <td>96.000000</td>\n",
       "    </tr>\n",
       "  </tbody>\n",
       "</table>\n",
       "</div>"
      ],
      "text/plain": [
       "              importance\n",
       "feature                 \n",
       "eye_left_x    656.333333\n",
       "eye_left_y    437.666667\n",
       "eye_right_x   540.000000\n",
       "eye_right_y  1174.000000\n",
       "mouse_x       266.666667\n",
       "mouse_y       683.333333\n",
       "nose_x        132.333333\n",
       "nose_y         96.000000"
      ]
     },
     "execution_count": 152,
     "metadata": {},
     "output_type": "execute_result"
    }
   ],
   "source": [
    "feature_importances.groupby('feature')[['importance']].mean()"
   ]
  },
  {
   "cell_type": "code",
   "execution_count": 153,
   "metadata": {
    "ExecuteTime": {
     "end_time": "2019-03-20T05:39:10.080543Z",
     "start_time": "2019-03-20T05:39:10.074871Z"
    }
   },
   "outputs": [
    {
     "data": {
      "text/plain": [
       "array([1.7672465 , 1.91744134, 2.11202973, 1.958625  , 1.88608491,\n",
       "       1.9580947 , 1.958625  , 1.9580947 , 1.958625  , 1.9580947 ,\n",
       "       1.60966203, 1.74143052, 1.8896342 , 1.958625  , 1.9383889 ,\n",
       "       1.87770853, 1.958625  , 1.9580947 , 1.77945451, 1.9580947 ,\n",
       "       1.71758104, 1.88196337, 2.324648  , 1.71332621, 1.9580947 ,\n",
       "       1.9580947 , 2.13014765, 1.9580947 , 1.83267641, 1.71758104,\n",
       "       1.68749324, 2.06742787, 1.71758104, 2.05425984, 1.9580947 ,\n",
       "       1.78478175, 1.958625  , 1.91243767, 1.9580947 , 1.70854594,\n",
       "       1.6314414 , 2.05134936, 1.958625  , 1.958625  , 1.72264319,\n",
       "       1.958625  , 1.91744134, 1.958625  , 1.74805535, 1.68843472,\n",
       "       1.9580947 , 2.07655176, 1.71758104, 1.958625  , 1.9580947 ,\n",
       "       1.849339  , 2.11010121, 2.08155542, 1.9383889 , 1.94264374,\n",
       "       1.91216943, 1.91744134, 1.7376886 , 1.74380051, 1.9580947 ,\n",
       "       1.46167842, 1.81694758, 1.50397311, 1.958625  , 1.87016898,\n",
       "       1.91258677, 2.07229692, 1.74380051, 1.98353096, 2.05134936,\n",
       "       1.86176857, 1.74210841, 1.74805535, 1.9580947 , 1.9383889 ,\n",
       "       1.9580947 , 1.87297737, 2.24593775, 1.94264374, 1.958625  ,\n",
       "       1.90818284, 2.05425984, 1.958625  , 1.91216943, 1.958625  ])"
      ]
     },
     "execution_count": 153,
     "metadata": {},
     "output_type": "execute_result"
    }
   ],
   "source": [
    "oof_preds"
   ]
  },
  {
   "cell_type": "code",
   "execution_count": 156,
   "metadata": {
    "ExecuteTime": {
     "end_time": "2019-03-20T05:58:04.562808Z",
     "start_time": "2019-03-20T05:58:04.549955Z"
    }
   },
   "outputs": [],
   "source": [
    "test.drop(columns='score').to_csv('../new_face/test.csv', index=None)"
   ]
  },
  {
   "cell_type": "code",
   "execution_count": 154,
   "metadata": {
    "ExecuteTime": {
     "end_time": "2019-03-20T05:39:10.575091Z",
     "start_time": "2019-03-20T05:39:10.570743Z"
    }
   },
   "outputs": [
    {
     "data": {
      "text/plain": [
       "array([1.97098369, 2.08355731, 1.93605132, 1.91974619, 1.88408603,\n",
       "       2.02423956, 1.77098051, 2.05523948, 1.99371866, 1.81448418])"
      ]
     },
     "execution_count": 154,
     "metadata": {},
     "output_type": "execute_result"
    }
   ],
   "source": [
    "sub"
   ]
  },
  {
   "cell_type": "code",
   "execution_count": 155,
   "metadata": {
    "ExecuteTime": {
     "end_time": "2019-03-20T05:39:11.281654Z",
     "start_time": "2019-03-20T05:39:11.277394Z"
    }
   },
   "outputs": [
    {
     "data": {
      "text/plain": [
       "0.4815404040404041"
      ]
     },
     "execution_count": 155,
     "metadata": {},
     "output_type": "execute_result"
    }
   ],
   "source": [
    "train_test.score.var()"
   ]
  },
  {
   "cell_type": "code",
   "execution_count": null,
   "metadata": {},
   "outputs": [],
   "source": []
  }
 ],
 "metadata": {
  "kernelspec": {
   "display_name": "Python 3",
   "language": "python",
   "name": "python3"
  },
  "language_info": {
   "codemirror_mode": {
    "name": "ipython",
    "version": 3
   },
   "file_extension": ".py",
   "mimetype": "text/x-python",
   "name": "python",
   "nbconvert_exporter": "python",
   "pygments_lexer": "ipython3",
   "version": "3.6.7"
  },
  "toc": {
   "base_numbering": 1,
   "nav_menu": {},
   "number_sections": true,
   "sideBar": true,
   "skip_h1_title": false,
   "title_cell": "Table of Contents",
   "title_sidebar": "Contents",
   "toc_cell": false,
   "toc_position": {},
   "toc_section_display": true,
   "toc_window_display": false
  }
 },
 "nbformat": 4,
 "nbformat_minor": 2
}
